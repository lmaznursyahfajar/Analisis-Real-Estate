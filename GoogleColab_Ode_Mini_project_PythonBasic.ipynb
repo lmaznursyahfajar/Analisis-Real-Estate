{
  "cells": [
    {
      "cell_type": "markdown",
      "metadata": {
        "id": "v_rBzZFMgb0D"
      },
      "source": [
        "# MINI PROJECT"
      ]
    },
    {
      "cell_type": "markdown",
      "metadata": {
        "id": "XEkRoA_KgTmz"
      },
      "source": [
        "Sistem Pengelolaan Kontak  \n",
        " - Menyimpan dan mengelola kontak telepon.  \n",
        " - Fitur: Tambah kontak, cari kontak, hapus kontak\n",
        " - Tampilkan data kontak yang ada."
      ]
    },
    {
      "cell_type": "code",
      "execution_count": null,
      "metadata": {
        "colab": {
          "base_uri": "https://localhost:8080/"
        },
        "id": "vUhYiYrj45hu",
        "outputId": "566cbad2-bc38-4bed-ae2a-87aa178d1f3c"
      },
      "outputs": [
        {
          "output_type": "stream",
          "name": "stdout",
          "text": [
            "Masukkan password: admin1234\n",
            "Password benar, selamat datang!\n",
            "\n",
            "=== Menu Kontak ===\n",
            "1. Tambah Kontak\n",
            "2. Cari Kontak\n",
            "3. Hapus Kontak\n",
            "4. Tampilkan Semua Kontak\n",
            "5. Keluar\n",
            "Pilih menu (1-5): 1\n",
            "Masukkan nama kontak: Ode \n",
            "Masukkan nomor telepon: 081121456791\n",
            "Kontak 'Ode ' berhasil ditambahkan!\n",
            "\n",
            "=== Menu Kontak ===\n",
            "1. Tambah Kontak\n",
            "2. Cari Kontak\n",
            "3. Hapus Kontak\n",
            "4. Tampilkan Semua Kontak\n",
            "5. Keluar\n",
            "Pilih menu (1-5): 1\n",
            "Masukkan nama kontak: Budi\n",
            "Masukkan nomor telepon: 081234567890\n",
            "Kontak 'Budi' berhasil ditambahkan!\n",
            "\n",
            "=== Menu Kontak ===\n",
            "1. Tambah Kontak\n",
            "2. Cari Kontak\n",
            "3. Hapus Kontak\n",
            "4. Tampilkan Semua Kontak\n",
            "5. Keluar\n",
            "Pilih menu (1-5): 2\n",
            "Masukkan nama yang ingin dicari: Aznur\n",
            "Kontak tidak ditemukan.\n",
            "\n",
            "=== Menu Kontak ===\n",
            "1. Tambah Kontak\n",
            "2. Cari Kontak\n",
            "3. Hapus Kontak\n",
            "4. Tampilkan Semua Kontak\n",
            "5. Keluar\n",
            "Pilih menu (1-5): 5\n",
            "Terima kasih, keluar dari program.\n"
          ]
        }
      ],
      "source": [
        "password_benar = 'admin1234'\n",
        "password = input(\"Masukkan password: \")\n",
        "\n",
        "if password == password_benar:\n",
        "    print(\"Password benar, selamat datang!\")\n",
        "\n",
        "    kontak = {}\n",
        "\n",
        "    while True:\n",
        "        print(\"\\n=== Menu Kontak ===\")\n",
        "        print(\"1. Tambah Kontak\")\n",
        "        print(\"2. Cari Kontak\")\n",
        "        print(\"3. Hapus Kontak\")\n",
        "        print(\"4. Tampilkan Semua Kontak\")\n",
        "        print(\"5. Keluar\")\n",
        "\n",
        "        pilihan = input(\"Pilih menu (1-5): \")\n",
        "\n",
        "        if pilihan == \"1\":\n",
        "            nama = input(\"Masukkan nama kontak: \")\n",
        "            nomor = input(\"Masukkan nomor telepon: \")\n",
        "            kontak[nama] = nomor\n",
        "            print(f\"Kontak '{nama}' berhasil ditambahkan!\")\n",
        "\n",
        "        elif pilihan == \"2\":\n",
        "            nama = input(\"Masukkan nama yang ingin dicari: \")\n",
        "            if nama in kontak:\n",
        "                print(f\"Nama: {nama}, Nomor: {kontak[nama]}\")\n",
        "            else:\n",
        "                print(\"Kontak tidak ditemukan.\")\n",
        "\n",
        "        elif pilihan == \"3\":\n",
        "            nama = input(\"Masukkan nama yang ingin dihapus: \")\n",
        "            if nama in kontak:\n",
        "                del kontak[nama]\n",
        "                print(f\"Kontak '{nama}' berhasil dihapus.\")\n",
        "            else:\n",
        "                print(\"Kontak tidak ditemukan.\")\n",
        "\n",
        "        elif pilihan == \"4\":\n",
        "            if not kontak:\n",
        "                print(\"Belum ada kontak tersimpan.\")\n",
        "            else:\n",
        "                print(\"Daftar Kontak:\")\n",
        "                for nama, nomor in kontak.items():\n",
        "                    print(f\"- {nama}: {nomor}\")\n",
        "\n",
        "        elif pilihan == \"5\":\n",
        "            print(\"Terima kasih, keluar dari program.\")\n",
        "            break\n",
        "\n",
        "        else:\n",
        "            print(\"Pilihan tidak valid.\")\n",
        "else:\n",
        "    print(\"Password salah. Akses ditolak.\")\n"
      ]
    }
  ],
  "metadata": {
    "colab": {
      "toc_visible": true,
      "provenance": []
    },
    "kernelspec": {
      "display_name": "Python 3",
      "name": "python3"
    },
    "language_info": {
      "name": "python"
    }
  },
  "nbformat": 4,
  "nbformat_minor": 0
}